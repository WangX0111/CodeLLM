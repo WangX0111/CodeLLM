{
 "cells": [
  {
   "cell_type": "code",
   "execution_count": 14,
   "metadata": {},
   "outputs": [],
   "source": [
    "import iree\n",
    "# from iree import compile\n",
    "import mlir\n",
    "from mlir import ir\n",
    "from mlir.ir import Context, Module\n",
    "from mlir.dialects import builtin"
   ]
  },
  {
   "cell_type": "code",
   "execution_count": 2,
   "metadata": {},
   "outputs": [],
   "source": [
    "input = \"\"\"\n",
    "func @add(%arg0: f32, %arg1: f32) -> f32 {\n",
    "  %result = addf %arg0, %arg1 : f32\n",
    "  return %result : f32\n",
    "}\n",
    "\"\"\""
   ]
  },
  {
   "cell_type": "code",
   "execution_count": 17,
   "metadata": {},
   "outputs": [
    {
     "data": {
      "text/plain": [
       "['_CAPICreate',\n",
       " '_CAPIPtr',\n",
       " '__class__',\n",
       " '__delattr__',\n",
       " '__dict__',\n",
       " '__dir__',\n",
       " '__doc__',\n",
       " '__enter__',\n",
       " '__eq__',\n",
       " '__exit__',\n",
       " '__format__',\n",
       " '__ge__',\n",
       " '__getattribute__',\n",
       " '__getstate__',\n",
       " '__gt__',\n",
       " '__hash__',\n",
       " '__init__',\n",
       " '__init_subclass__',\n",
       " '__le__',\n",
       " '__lt__',\n",
       " '__module__',\n",
       " '__ne__',\n",
       " '__new__',\n",
       " '__pybind11_module_local_v4_gcc_libstdcpp_cxxabi1016__',\n",
       " '__reduce__',\n",
       " '__reduce_ex__',\n",
       " '__repr__',\n",
       " '__setattr__',\n",
       " '__sizeof__',\n",
       " '__str__',\n",
       " '__subclasshook__',\n",
       " '_clear_live_operations',\n",
       " '_get_context_again',\n",
       " '_get_live_count',\n",
       " '_get_live_module_count',\n",
       " '_get_live_operation_count',\n",
       " 'allow_unregistered_dialects',\n",
       " 'append_dialect_registry',\n",
       " 'attach_diagnostic_handler',\n",
       " 'current',\n",
       " 'd',\n",
       " 'dialects',\n",
       " 'enable_multithreading',\n",
       " 'get_dialect_descriptor',\n",
       " 'is_registered_operation',\n",
       " 'load_all_available_dialects']"
      ]
     },
     "execution_count": 17,
     "metadata": {},
     "output_type": "execute_result"
    }
   ],
   "source": [
    "dir(ctx)"
   ]
  },
  {
   "cell_type": "code",
   "execution_count": 16,
   "metadata": {},
   "outputs": [
    {
     "ename": "AttributeError",
     "evalue": "'Context' object has no attribute 'parse'",
     "output_type": "error",
     "traceback": [
      "\u001b[0;31m---------------------------------------------------------------------------\u001b[0m",
      "\u001b[0;31mAttributeError\u001b[0m                            Traceback (most recent call last)",
      "Cell \u001b[0;32mIn[16], line 2\u001b[0m\n\u001b[1;32m      1\u001b[0m ctx \u001b[39m=\u001b[39m ir\u001b[39m.\u001b[39mContext()\n\u001b[0;32m----> 2\u001b[0m module \u001b[39m=\u001b[39m ctx\u001b[39m.\u001b[39mparse(\u001b[39minput\u001b[39m)\n",
      "\u001b[0;31mAttributeError\u001b[0m: 'Context' object has no attribute 'parse'"
     ]
    }
   ],
   "source": [
    "ctx = ir.Context()\n",
    "module = ctx.parse(input)\n"
   ]
  },
  {
   "cell_type": "code",
   "execution_count": null,
   "metadata": {},
   "outputs": [],
   "source": []
  }
 ],
 "metadata": {
  "kernelspec": {
   "display_name": "iree",
   "language": "python",
   "name": "python3"
  },
  "language_info": {
   "codemirror_mode": {
    "name": "ipython",
    "version": 3
   },
   "file_extension": ".py",
   "mimetype": "text/x-python",
   "name": "python",
   "nbconvert_exporter": "python",
   "pygments_lexer": "ipython3",
   "version": "3.11.3"
  },
  "orig_nbformat": 4
 },
 "nbformat": 4,
 "nbformat_minor": 2
}
